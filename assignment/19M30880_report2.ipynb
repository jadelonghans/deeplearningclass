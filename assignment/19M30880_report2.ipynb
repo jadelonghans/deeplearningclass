{
 "cells": [
  {
   "cell_type": "markdown",
   "metadata": {},
   "source": [
    "# Machine Learning: Intermediate report\n",
    "\n",
    "*Write your name and your student ID below.*\n",
    "\n",
    "+ Your name (Your ID)"
   ]
  },
  {
   "cell_type": "markdown",
   "metadata": {},
   "source": [
    "Prepare an environment for running Python codes on Jupyter notebook. The most easiest way is to use [Google Colaboratory](https://colab.research.google.com/).\n",
    "\n",
    "Write codes for the following three problems, and submit the notebook file (`.ipynb`) on OCW. *We do not accept a report in other formats (e.g., Word, PDF, HTML)*. Write a code at the specified cell in the notebook. One can add more cells if necessary.\n",
    "\n",
    "These are the links to the sample codes used in the lecture:\n",
    "\n",
    "+ [Binary classification](https://github.com/chokkan/deeplearningclass/blob/master/mlp_binary.ipynb)\n",
    "+ [MNIST](https://github.com/chokkan/deeplearningclass/blob/master/mnist.ipynb)\n",
    "\n",
    "*Please accept that your report may be shared among students who take this course.*"
   ]
  },
  {
   "cell_type": "markdown",
   "metadata": {},
   "source": [
    "## 1. Multi-class classification on MNIST\n",
    "\n",
    "Train a model on the training set of MNIST, and report the performance of the model on the test set in the following evaluation measures:\n",
    "\n",
    "+ Accuracy\n",
    "+ Precision, recall, and F1 scores on each category (digit)\n",
    "+ Macro-averaged precision, recall, and F1 scores (i.e., the averages of the above measures for all categories)\n",
    "\n",
    "One can use the same code shown in the lecture. Write a code here and show the output."
   ]
  },
  {
   "cell_type": "code",
   "execution_count": null,
   "metadata": {
    "collapsed": true
   },
   "outputs": [],
   "source": []
  },
  {
   "cell_type": "markdown",
   "metadata": {},
   "source": [
    "## 2. Confusion matrix\n",
    "\n",
    "Show a confusion matrix of the predictions of the model on the test set. This is an example of a confusion matrix.\n",
    "\n",
    "![example](example-confusion-matrix.png)\n",
    "\n",
    "Write a code here and show the confusion matrix."
   ]
  },
  {
   "cell_type": "code",
   "execution_count": null,
   "metadata": {
    "collapsed": true
   },
   "outputs": [],
   "source": []
  },
  {
   "cell_type": "markdown",
   "metadata": {},
   "source": [
    "## 3. Top-3 easy and confusing examples\n",
    "\n",
    "Show the top three easy and three confusing, respectively, images where the model recognized their digits with strong confidences. More specifically, let $y_n$ and $\\hat{y}_n$ the true and predicted, respectively, digits of the image $x_n$. We want to find three images with high $P(\\hat{y}_n | x_n)$ when $y_n = \\hat{y}_n$ (easy examples) $y_n \\neq \\hat{y}_n$ (confusing examples).\n",
    "\n",
    "Please show $y_n$, $P(y_n | x_n)$, $\\hat{y}_n$, and $P(\\hat{y}_n | x_n)$. This is an example of an output for an image (you need this kind of outputs for top-three easy and top-three confusing images).\n",
    "\n",
    "![example](example-confusing-sample.png)\n",
    "\n",
    "Write a code here and show the output."
   ]
  },
  {
   "cell_type": "code",
   "execution_count": null,
   "metadata": {
    "collapsed": true
   },
   "outputs": [],
   "source": []
  }
 ],
 "metadata": {
  "kernelspec": {
   "display_name": "Python 3",
   "language": "python",
   "name": "python3"
  },
  "language_info": {
   "codemirror_mode": {
    "name": "ipython",
    "version": 3
   },
   "file_extension": ".py",
   "mimetype": "text/x-python",
   "name": "python",
   "nbconvert_exporter": "python",
   "pygments_lexer": "ipython3",
   "version": "3.5.2"
  }
 },
 "nbformat": 4,
 "nbformat_minor": 2
}
